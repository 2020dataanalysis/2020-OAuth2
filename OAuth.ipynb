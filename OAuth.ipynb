{
 "cells": [
  {
   "cell_type": "code",
   "execution_count": 1,
   "metadata": {},
   "outputs": [],
   "source": [
    "# TD Ameritrade OAuth 2.0 script\n",
    "# This python script opens a browser,\n",
    "# invokes a TD Ameritrade OAuth server\n",
    "# with a url to receive an authorization code.\n",
    "# Submits TD Ameritrade login information to receive tokens.\n",
    "# OAuth.ipynb\n",
    "# 06/21/2020\n",
    "# Author Sam Portillo\n",
    "\n",
    "# References:\n",
    "#   https://oauth.net/2/\n",
    "#   https://developer.tdameritrade.com/\n",
    "\n",
    "\n",
    "# conda activate TDA\n",
    "# conda install -n myenv scipy\n",
    "# conda install -n myenv pip\n",
    "# conda activate myenv\n",
    "# pip <pip_subcommand>\n",
    "# ipython kernel install --name TDA --user\n",
    "# or\n",
    "# python -m ipykernel install --user\n",
    "\n",
    "\n",
    "import requests, time, urllib\n",
    "from splinter import Browser\n",
    "from selenium import webdriver\n",
    "from credentials import client_id, username, password, redirect_uri"
   ]
  },
  {
   "cell_type": "code",
   "execution_count": 2,
   "metadata": {},
   "outputs": [],
   "source": [
    "# Chrome, Help, About Google Chrome → version needs to match driver.\n",
    "executable_path = {'executable_path': r'C:\\Z\\drivers\\83\\chromedriver.exe' }\n",
    "browser = Browser('chrome', **executable_path, headless = False )"
   ]
  },
  {
   "cell_type": "code",
   "execution_count": 3,
   "metadata": {},
   "outputs": [],
   "source": [
    "# Build OAuth 2.0 url\n",
    "method = 'GET'\n",
    "url = 'https://auth.tdameritrade.com/auth?'\n",
    "payload = {'response_type':'code', 'redirect_uri':redirect_uri, 'client_id':client_id + '@AMER.OAUTHAP'}\n",
    "oauth_url = requests.Request(method, url, params = payload).prepare()\n",
    "browser.visit(oauth_url.url)"
   ]
  },
  {
   "cell_type": "code",
   "execution_count": 4,
   "metadata": {},
   "outputs": [],
   "source": [
    "# Fill out each element in the form\n",
    "browser.find_by_id(\"username\").first.fill(username)\n",
    "browser.find_by_id(\"password\").first.fill(password)\n",
    "browser.find_by_id(\"accept\").first.click()\n",
    "\n",
    "#time.sleep(3)\n",
    "#browser.find_by_id(\"accept_pre\").first.click()\n",
    "\n",
    "# Need time to manually enter TDA text key"
   ]
  },
  {
   "cell_type": "code",
   "execution_count": 5,
   "metadata": {},
   "outputs": [],
   "source": [
    "time.sleep(30)\n",
    "\n",
    "# Click to 'Continue'\n",
    "browser.find_by_id(\"accept\").first.click()\n",
    "time.sleep(1)\n",
    "authorization_code = urllib.parse.unquote(browser.url.split('code=')[1])\n",
    "browser.quit()"
   ]
  },
  {
   "cell_type": "code",
   "execution_count": 6,
   "metadata": {},
   "outputs": [],
   "source": [
    "# Request Post Access Token\n",
    "url = r'https://api.tdameritrade.com/v1/oauth2/token'\n",
    "headers = {'Content-Type':\"application/x-www-form-urlencoded\"}\n",
    "payload = {\n",
    "            'grant_type':'authorization_code',\n",
    "            'access_type':'offline',\n",
    "            'code':authorization_code,\n",
    "            'client_id':client_id,\n",
    "            'redirect_uri':redirect_uri\n",
    "          }\n",
    "\n",
    "response = requests.post(url, headers = headers, data = payload)\n",
    "\n",
    "# Convert python object into a JSON string\n",
    "tokens = response.json()\n",
    "#print(tokens)"
   ]
  },
  {
   "cell_type": "code",
   "execution_count": 7,
   "metadata": {},
   "outputs": [
    {
     "name": "stdout",
     "output_type": "stream",
     "text": [
      "O33bd2JkGD2cbQELgxq/mlsH4Uwhg4RYWd8c4LaXLUWFmCRTR7Ykn6b5iCgxX0IA/bsxIeXGnW28XohZ1gONfQKwhLytvu4iwyh40OOirj1/TN4ciKEAWDkNiEJHowIspJh2yM2dXiF+42k9R+oWljbBB9XNOkArXbWtSgzUjKDSx4uL1r6uBKrVNrxjQVth07RbLgLTuAxlN4eGtfBL8xn/9kd+E6mXcQyx+I3yDhET9B9aE/RWvJraKVYEUTmDtIP19O8Hm0ltFsL+VbxzEugAv+vFxWyWAzqgxA1DkvIiQCpxbArgyfzhNwqvuuQp5qwDt89vATJk0bC+RZWhecOA1QI99jdy0K8VSzVM2XfShZDHonzimCeunxzRy2+GV2NHOcKpDf1DLBQsljtBu6HIUnaJ+TCSaBjQePiFG1UNJ3aefUbF1hwl/KOgTtd+05Q2dKOPU6e2ftdY91kQ0SZhjLAJyK9UbjxxDly+QwXoG9Zmgxz+fNmslt4kbfObIurWppLVVn2Ehtav2pzHqPGthOBQh7jPuR9MYJB/Ohsd100MQuG4LYrgoVi/JHHvlu8St/Z9oP8mMMZeI0wSs1gmBxygv9BWovAj3JY9EeHgN4uNak3sDDxvlxLlbXW08O0oOezxPGYKrXFESMlF/mL4pvxeUKgnf81oZoiS1Wjx7ockAMqDpmMFboxHq+XZxBzzTs8SxG50hwAJT+5me3NVKyFGltLj6d3+85haSNuzTBIi32SNx1GwqM1bzZv6NsBqRI+YLG0TtPXKrBEZjaMky0n6bz37pQrMBiLd7tsUZpGKc5V0H5W11u00aqpUlSrtlVhzXpNkmfbruPFuqk7fzXwfesJrvsQ0lPZwl4zJXQOuCmLDtS+RkKWYV+jfeHb9Qtd+XSTXntOAm12igpWe+oWT7rLPZ9uy6MAZRQrA3E7CpPsUFE9vK/mDe2J1nDveqDhqNMntYHb7SoNjyB6/N9mnmKvv5bb8XKeVa37p6KxySgxqSc6DxYXf+L8d3iu7qJYorsyLJpg9o+2mBn4LTWdDkHBkAn5uAG4gwpoqk71nkJHrOqraHgtirnGcZyswEL9MnsLTckXSkiEI6AK+BtiPyhpwCM9K0tt/CYI6zwtIi78R0Gtinj5g=212FD3x19z9sWBHDJACbC00\n"
     ]
    }
   ],
   "source": [
    "print(tokens['access_token'])"
   ]
  }
 ],
 "metadata": {
  "kernelspec": {
   "display_name": "Python 3",
   "language": "python",
   "name": "python3"
  },
  "language_info": {
   "codemirror_mode": {
    "name": "ipython",
    "version": 3
   },
   "file_extension": ".py",
   "mimetype": "text/x-python",
   "name": "python",
   "nbconvert_exporter": "python",
   "pygments_lexer": "ipython3",
   "version": "3.8.2"
  }
 },
 "nbformat": 4,
 "nbformat_minor": 4
}
